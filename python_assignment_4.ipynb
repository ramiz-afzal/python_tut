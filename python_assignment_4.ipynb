{
 "cells": [
  {
   "cell_type": "code",
   "execution_count": 1,
   "metadata": {},
   "outputs": [
    {
     "name": "stdout",
     "output_type": "stream",
     "text": [
      "first_name: Muhammad Ramiz\n",
      "last_name: Afzal\n",
      "age: 22\n",
      "city: Karachi\n",
      "\n",
      "New Key value pair added.\n",
      "\n",
      "first_name: Muhammad Ramiz\n",
      "last_name: Afzal\n",
      "age: 22\n",
      "city: Karachi\n",
      "qualification: Intermediate\n",
      "\n",
      "New Key value pair updated\n",
      "\n",
      "first_name: Muhammad Ramiz\n",
      "last_name: Afzal\n",
      "age: 22\n",
      "city: Karachi\n",
      "qualification: BS Software Engineering\n",
      "\n",
      "New Key value pair Deleted!\n",
      "\n",
      "first_name: Muhammad Ramiz\n",
      "last_name: Afzal\n",
      "age: 22\n",
      "city: Karachi\n"
     ]
    }
   ],
   "source": [
    "person = {\n",
    "    'first_name': 'Muhammad Ramiz',\n",
    "    'last_name': 'Afzal',\n",
    "    'age': 22,\n",
    "    'city': 'Karachi'\n",
    "}\n",
    "\n",
    "def print_my_obj(obj):\n",
    "    for key in obj.keys():\n",
    "        print(f'{key}: {obj[key]}')\n",
    "\n",
    "\n",
    "print_my_obj(person)\n",
    "\n",
    "print('\\nNew Key value pair added.\\n')\n",
    "person.update({'qualification': 'Intermediate'})\n",
    "print_my_obj(person)\n",
    "\n",
    "print('\\nNew Key value pair updated\\n')\n",
    "person.update({'qualification': 'BS Software Engineering'})\n",
    "print_my_obj(person)\n",
    "\n",
    "print('\\nNew Key value pair Deleted!\\n')\n",
    "person.pop('qualification')\n",
    "print_my_obj(person)"
   ]
  },
  {
   "cell_type": "code",
   "execution_count": 2,
   "metadata": {},
   "outputs": [
    {
     "name": "stdout",
     "output_type": "stream",
     "text": [
      "\n",
      "KARACHI\n",
      "\n",
      "country: Pakistan\n",
      "population: 120000\n",
      "fact: Karachi is called the City of lights.\n",
      "\n",
      "NEW_YORK\n",
      "\n",
      "country: USA\n",
      "population: 185000\n",
      "fact: New york has the best Coffee in America.\n",
      "\n",
      "PARIS\n",
      "\n",
      "country: France\n",
      "population: 16700\n",
      "fact: Paris is also called the city of love.\n"
     ]
    }
   ],
   "source": [
    "cities = {\n",
    "    'karachi': {\n",
    "        'country': 'Pakistan',\n",
    "        'population': 120000,\n",
    "        'fact': 'Karachi is called the City of lights.'\n",
    "    },\n",
    "    'new_york': {\n",
    "        'country': 'USA',\n",
    "        'population': 185000,\n",
    "        'fact': 'New york has the best Coffee in America.'\n",
    "    },\n",
    "    'paris': {\n",
    "        'country': 'France',\n",
    "        'population': 16700,\n",
    "        'fact': 'Paris is also called the city of love.'\n",
    "    }\n",
    "}\n",
    "\n",
    "for city in cities:\n",
    "    print(f'\\n{city.upper()}\\n')\n",
    "    for key in cities[city]:\n",
    "        print(f'{key}: {cities[city][key]}')"
   ]
  },
  {
   "cell_type": "code",
   "execution_count": 3,
   "metadata": {},
   "outputs": [
    {
     "name": "stdout",
     "output_type": "stream",
     "text": [
      "Enter your age: 11\n",
      "Your ticket will cost 10$.\n"
     ]
    }
   ],
   "source": [
    "user_age = int(input('Enter your age: '))\n",
    "if user_age >= 12:\n",
    "    print('Your ticket will cost 15$.')\n",
    "elif 12 > user_age > 3:\n",
    "    print('Your ticket will cost 10$.')\n",
    "elif user_age < 3:\n",
    "    print('Your ticket is free.')"
   ]
  },
  {
   "cell_type": "code",
   "execution_count": 4,
   "metadata": {},
   "outputs": [
    {
     "name": "stdout",
     "output_type": "stream",
     "text": [
      "My favorite book is Lord of the Rings\n",
      "\n",
      "My favorite book is Harry Potter\n",
      "\n",
      "My favorite book is The old man and the sea\n",
      "\n"
     ]
    }
   ],
   "source": [
    "def favorite_book(book_name):\n",
    "    print(f'My favorite book is {book_name}\\n')\n",
    "\n",
    "\n",
    "favorite_book('Lord of the Rings')\n",
    "favorite_book('Harry Potter')\n",
    "favorite_book('The old man and the sea')"
   ]
  },
  {
   "cell_type": "code",
   "execution_count": 5,
   "metadata": {},
   "outputs": [
    {
     "name": "stdout",
     "output_type": "stream",
     "text": [
      "Guess the number:\n",
      "21\n",
      "Your input is greater than the random number\n",
      "Guess the number:\n",
      "10\n",
      "Your input is greater than the random number\n",
      "Guess the number:\n",
      "4\n",
      "You guessed the number!\n"
     ]
    }
   ],
   "source": [
    "from random import seed\n",
    "from random import randint\n",
    "seed(1)\n",
    "random_num = randint(0, 30)\n",
    "guess_try = 0\n",
    "while guess_try < 3:\n",
    "    user_input = int(input('Guess the number:\\n'))\n",
    "    if user_input == random_num:\n",
    "        print('You guessed the number!')\n",
    "        break\n",
    "    elif user_input > random_num:\n",
    "        print('Your input is greater than the random number')\n",
    "        guess_try += 1\n",
    "    elif user_input < random_num:\n",
    "        print('Your input is less than the random number')\n",
    "        guess_try += 1\n",
    "else:\n",
    "    print('\\nYou are out of guesses, you lose :(')"
   ]
  },
  {
   "cell_type": "code",
   "execution_count": null,
   "metadata": {},
   "outputs": [],
   "source": []
  }
 ],
 "metadata": {
  "kernelspec": {
   "display_name": "Python 3",
   "language": "python",
   "name": "python3"
  },
  "language_info": {
   "codemirror_mode": {
    "name": "ipython",
    "version": 3
   },
   "file_extension": ".py",
   "mimetype": "text/x-python",
   "name": "python",
   "nbconvert_exporter": "python",
   "pygments_lexer": "ipython3",
   "version": "3.7.4"
  }
 },
 "nbformat": 4,
 "nbformat_minor": 2
}
