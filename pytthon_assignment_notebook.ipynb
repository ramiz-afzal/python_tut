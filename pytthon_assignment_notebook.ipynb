{
 "cells": [
  {
   "cell_type": "code",
   "execution_count": 1,
   "metadata": {},
   "outputs": [
    {
     "name": "stdout",
     "output_type": "stream",
     "text": [
      "\n",
      "Twinkle, twinkle , little star,\n",
      "    How I wondar what you are!\n",
      "        Up above the world so high,\n",
      "        Like a diamond in the sky.\n",
      "Twinkle, twinkle , little star,\n",
      "    How I wondar what you are!\n",
      "\n"
     ]
    }
   ],
   "source": [
    "string = \"\"\"\n",
    "Twinkle, twinkle , little star,\n",
    "    How I wondar what you are!\n",
    "        Up above the world so high,\n",
    "        Like a diamond in the sky.\n",
    "Twinkle, twinkle , little star,\n",
    "    How I wondar what you are!\n",
    "\"\"\"\n",
    "\n",
    "print(string)"
   ]
  },
  {
   "cell_type": "code",
   "execution_count": 2,
   "metadata": {},
   "outputs": [
    {
     "name": "stdout",
     "output_type": "stream",
     "text": [
      "3.7.4 (default, Aug  9 2019, 18:34:13) [MSC v.1915 64 bit (AMD64)]\n"
     ]
    }
   ],
   "source": [
    "import sys\n",
    "print(sys.version)"
   ]
  },
  {
   "cell_type": "code",
   "execution_count": 3,
   "metadata": {},
   "outputs": [
    {
     "name": "stdout",
     "output_type": "stream",
     "text": [
      "Current Date and time: 2019-11-06 09:57:16.885574\n"
     ]
    }
   ],
   "source": [
    "from datetime import datetime\n",
    "now = datetime.now()\n",
    "print(f'Current Date and time: {now}')"
   ]
  },
  {
   "cell_type": "code",
   "execution_count": 4,
   "metadata": {},
   "outputs": [
    {
     "name": "stdout",
     "output_type": "stream",
     "text": [
      "Enter circal Radius: 45\n",
      "6361.725123519331\n"
     ]
    }
   ],
   "source": [
    "import math\n",
    "circRadius = int(input('Enter circal Radius: '))\n",
    "circArea = math.pi * (circRadius**2)\n",
    "print(circArea)"
   ]
  },
  {
   "cell_type": "code",
   "execution_count": 5,
   "metadata": {},
   "outputs": [
    {
     "name": "stdout",
     "output_type": "stream",
     "text": [
      "Enter first name: ramiz\n",
      "Enter last name: afzal\n",
      "You name is zimar lazfa\n"
     ]
    }
   ],
   "source": [
    "f_name = input('Enter first name: ')\n",
    "l_name = input('Enter last name: ')\n",
    "print(f'You name is {f_name[::-1]} {l_name[::-1]}')"
   ]
  },
  {
   "cell_type": "code",
   "execution_count": 6,
   "metadata": {},
   "outputs": [
    {
     "name": "stdout",
     "output_type": "stream",
     "text": [
      "Enter 1st number :23\n",
      "Enter 2nd number :45\n",
      "Your Answer is : 68\n"
     ]
    }
   ],
   "source": [
    "num_1 = int(input('Enter 1st number :'))\n",
    "num_2 = int(input('Enter 2nd number :'))\n",
    "print(f'Your Answer is : {num_1 + num_2}')"
   ]
  },
  {
   "cell_type": "code",
   "execution_count": null,
   "metadata": {},
   "outputs": [],
   "source": []
  }
 ],
 "metadata": {
  "kernelspec": {
   "display_name": "Python 3",
   "language": "python",
   "name": "python3"
  },
  "language_info": {
   "codemirror_mode": {
    "name": "ipython",
    "version": 3
   },
   "file_extension": ".py",
   "mimetype": "text/x-python",
   "name": "python",
   "nbconvert_exporter": "python",
   "pygments_lexer": "ipython3",
   "version": "3.7.4"
  }
 },
 "nbformat": 4,
 "nbformat_minor": 2
}
