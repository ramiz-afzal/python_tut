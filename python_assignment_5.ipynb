{
 "cells": [
  {
   "cell_type": "code",
   "execution_count": 15,
   "metadata": {},
   "outputs": [
    {
     "name": "stdout",
     "output_type": "stream",
     "text": [
      "Please enter a non negative value: 5\n",
      "The factorial of 5! is 120 ie: 1*2*3*4*5\n"
     ]
    }
   ],
   "source": [
    "# Question No. 1 - [Answer]\n",
    "\n",
    "def calculateFactorial():\n",
    "    # keep the loop in running unless loop_start = 0\n",
    "    loop_start = 1\n",
    "\n",
    "    while loop_start == 1:\n",
    "        number = int(input(\"Please enter a non negative value: \"))\n",
    "\n",
    "        # to check if the given input is a minus value\n",
    "        if number < 0:\n",
    "            print(\"Invalid value input. Please try again with 0 or greater than 0 value.\")\n",
    "            # skip the current loop iteration\n",
    "            continue\n",
    "        else:\n",
    "            counter = 1;\n",
    "            result = 1;\n",
    "            visual = \"\"\n",
    "            while counter <= number:\n",
    "                visual += \"{}*\".format(counter)\n",
    "                result = result * counter\n",
    "                counter += 1\n",
    "            print(\"The factorial of {}! is {} ie: {}\".format(number, result, visual.rstrip(\"*\")))\n",
    "        loop_start = 0\n",
    "\n",
    "calculateFactorial()"
   ]
  },
  {
   "cell_type": "code",
   "execution_count": 23,
   "metadata": {},
   "outputs": [
    {
     "name": "stdout",
     "output_type": "stream",
     "text": [
      "Number of Upper case letters: 4 ie: SMIT\n",
      "Number of Lower case letters: 9 ie: aylaniass\n"
     ]
    }
   ],
   "source": [
    "# Question No. 2 - [Answer]\n",
    "\n",
    "def upperLowerChars(sentence):\n",
    "    sentence = str(sentence)\n",
    "    upper_chars = \"\"\n",
    "    lower_chars = \"\"\n",
    "    for c in sentence:\n",
    "        if c.isupper():\n",
    "            upper_chars += c\n",
    "        elif c.islower():\n",
    "            lower_chars += c\n",
    "    print(\"Number of Upper case letters: {} ie: {}\".format(len(upper_chars), upper_chars))\n",
    "    print(\"Number of Lower case letters: {} ie: {}\".format(len(lower_chars), lower_chars))\n",
    "upperLowerChars(\"Saylani Mass IT\")\n"
   ]
  },
  {
   "cell_type": "code",
   "execution_count": 25,
   "metadata": {},
   "outputs": [
    {
     "name": "stdout",
     "output_type": "stream",
     "text": [
      "Even numbers: [2, 4, 6, 8, 10, 12, 14]\n"
     ]
    }
   ],
   "source": [
    "# Question No. 3 - [Answer]\n",
    "\n",
    "def getEvenNumbers(numbers_list):\n",
    "    even_numbers = []\n",
    "    for n in numbers_list:\n",
    "        if n%2 == 0:\n",
    "            even_numbers.append(n)\n",
    "    return even_numbers\n",
    "\n",
    "numbers = [1,2,3,4,5,6,7,8,9,10,11,12,13,14]\n",
    "\n",
    "print(\"Even numbers: {}\".format(getEvenNumbers(numbers)))            "
   ]
  },
  {
   "cell_type": "code",
   "execution_count": 34,
   "metadata": {},
   "outputs": [
    {
     "name": "stdout",
     "output_type": "stream",
     "text": [
      "The given string is Palindrome\n"
     ]
    }
   ],
   "source": [
    "# Question No. 4 - [Answer]\n",
    "\n",
    "def checkPalindrome(name):\n",
    "    name = name.lower()\n",
    "    reverse_name = name[::-1]\n",
    "    \n",
    "    if name == reverse_name:\n",
    "        print(\"The given string is Palindrome\")\n",
    "    else:\n",
    "        print(\"The given string is not Palindrome\")\n",
    "\n",
    "checkPalindrome('Madam')"
   ]
  },
  {
   "cell_type": "code",
   "execution_count": 10,
   "metadata": {},
   "outputs": [
    {
     "name": "stdout",
     "output_type": "stream",
     "text": [
      "Number is Prime\n"
     ]
    }
   ],
   "source": [
    "# Question No. 5 - [Answer]\n",
    "\n",
    "def checkPrimeNumber(number):\n",
    "    i = 2\n",
    "    while i < number:\n",
    "        if number%i == 0:\n",
    "            return False\n",
    "        i += 1\n",
    "    return True\n",
    "\n",
    "if checkPrimeNumber(101):\n",
    "    print(\"Number is Prime\")\n",
    "else:\n",
    "    print(\"Number is not Prime\")"
   ]
  },
  {
   "cell_type": "code",
   "execution_count": 11,
   "metadata": {},
   "outputs": [
    {
     "name": "stdout",
     "output_type": "stream",
     "text": [
      "Item: Alo\n",
      "Item: Pyaz\n",
      "Item: Tamatar\n",
      "Item: Lasson\n",
      "Item: Dhanya\n",
      "Item: Karela\n",
      "Item: Podina\n"
     ]
    }
   ],
   "source": [
    "# Question No. 6 - [Answer]\n",
    "\n",
    "def getItemsList(*items):\n",
    "    for item in items:\n",
    "        print(\"Item: {}\".format(item))\n",
    "        \n",
    "getItemsList(\"Alo\",\"Pyaz\",\"Tamatar\",\"Lasson\",\"Dhanya\",\"Karela\",\"Podina\")"
   ]
  },
  {
   "cell_type": "code",
   "execution_count": null,
   "metadata": {},
   "outputs": [],
   "source": []
  },
  {
   "cell_type": "code",
   "execution_count": null,
   "metadata": {},
   "outputs": [],
   "source": []
  }
 ],
 "metadata": {
  "kernelspec": {
   "display_name": "Python 3",
   "language": "python",
   "name": "python3"
  },
  "language_info": {
   "codemirror_mode": {
    "name": "ipython",
    "version": 3
   },
   "file_extension": ".py",
   "mimetype": "text/x-python",
   "name": "python",
   "nbconvert_exporter": "python",
   "pygments_lexer": "ipython3",
   "version": "3.7.4"
  }
 },
 "nbformat": 4,
 "nbformat_minor": 2
}
