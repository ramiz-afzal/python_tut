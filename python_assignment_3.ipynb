{
 "cells": [
  {
   "cell_type": "code",
   "execution_count": 1,
   "metadata": {},
   "outputs": [
    {
     "name": "stdout",
     "output_type": "stream",
     "text": [
      "Enter 1st Value:\n",
      "34\n",
      "Enter 2nd Value:\n",
      "12\n",
      "\n",
      "Select Operation:\n",
      "'A' for Addition\n",
      "'S' for Subtraction\n",
      "'M' for Multiply\n",
      "'D' for Divide\n",
      "'P' for Power\n",
      "s\n",
      "Result : 22\n"
     ]
    }
   ],
   "source": [
    "def calc_func(num_1, num_2, oprtr):\n",
    "    if oprtr.lower() == 'a':\n",
    "        return num_1 + num_2\n",
    "    elif oprtr.lower() == 's':\n",
    "        return num_1 - num_2\n",
    "    elif oprtr.lower() == 'd':\n",
    "        return num_1 / num_2\n",
    "    elif oprtr.lower() == 'm':\n",
    "        return num_1 * num_2\n",
    "    elif oprtr.lower() == 'p':\n",
    "        return num_1 ** num_2\n",
    "\n",
    "\n",
    "def main():\n",
    "    operator_message = '''\n",
    "Select Operation:\n",
    "'A' for Addition\n",
    "'S' for Subtraction\n",
    "'M' for Multiply\n",
    "'D' for Divide\n",
    "'P' for Power\n",
    "'''\n",
    "    user_input_1 = input('Enter 1st Value:\\n')\n",
    "    if user_input_1.isdigit() and int(user_input_1) > 0:\n",
    "        user_input_2 = input('Enter 2nd Value:\\n')\n",
    "        if user_input_2.isdigit() and int(user_input_2) > 0:\n",
    "            user_input_op = input(operator_message)\n",
    "            symbol_list = ['a', 's', 'm', 'd', 'p']\n",
    "            opr_validation = False\n",
    "            for symbol in symbol_list:\n",
    "                if user_input_op.lower() == symbol:\n",
    "                    opr_validation = True\n",
    "            if opr_validation:\n",
    "                result = calc_func(int(user_input_1), int(user_input_2), user_input_op)\n",
    "                print(f'Result : {result}')\n",
    "            else:\n",
    "                print('Invalid Input!\\n')\n",
    "                main()\n",
    "        else:\n",
    "            print('Invalid Input!\\n')\n",
    "            main()\n",
    "    else:\n",
    "        print('Invalid Input!\\n')\n",
    "        main()\n",
    "\n",
    "\n",
    "main()"
   ]
  },
  {
   "cell_type": "code",
   "execution_count": 2,
   "metadata": {},
   "outputs": [
    {
     "name": "stdout",
     "output_type": "stream",
     "text": [
      "Numeric Value found: 2019\n"
     ]
    }
   ],
   "source": [
    "random_list = ['Red', 'Yellow', {'name':'value'}, 2019, False]\n",
    "\n",
    "has_num = False\n",
    "num_value = None\n",
    "for element in random_list:\n",
    "    if type(element) == int or type(element) == float:\n",
    "        has_num = True\n",
    "        num_value = element\n",
    "\n",
    "if has_num:\n",
    "    print(f'Numeric Value found: {num_value}')\n",
    "else:\n",
    "    print('No numeric value found.')"
   ]
  },
  {
   "cell_type": "code",
   "execution_count": 3,
   "metadata": {},
   "outputs": [
    {
     "name": "stdout",
     "output_type": "stream",
     "text": [
      "Dictionary without Key:\n",
      " {'name': 'Ramiz', 'age': 22, 'city': 'Karachi'}\n",
      "Dictionary with Key:\n",
      " {'name': 'Ramiz', 'age': 22, 'city': 'Karachi', 'country': 'Pakistan'}\n"
     ]
    }
   ],
   "source": [
    "my_dictionary = {\n",
    "    'name' : 'Ramiz',\n",
    "    'age' : 22,\n",
    "    'city' : 'Karachi'\n",
    "}\n",
    "\n",
    "print(f'Dictionary without Key:\\n {my_dictionary}')\n",
    "\n",
    "if 'country' not in my_dictionary.keys():\n",
    "    my_dictionary['country'] = 'Pakistan'\n",
    "\n",
    "print(f'Dictionary with Key:\\n {my_dictionary}')"
   ]
  },
  {
   "cell_type": "code",
   "execution_count": 4,
   "metadata": {},
   "outputs": [
    {
     "name": "stdout",
     "output_type": "stream",
     "text": [
      "Sum of numeric values in a Dictionary: 50\n"
     ]
    }
   ],
   "source": [
    "my_dictionary = {\n",
    "    'color1': 'red',\n",
    "    'num1' : 10,\n",
    "    'color2': 'blue',\n",
    "    'num2' : 20,\n",
    "    'color3': 'green',\n",
    "    'num3' : 20,\n",
    "}\n",
    "\n",
    "\n",
    "sum = 0\n",
    "for element in my_dictionary:\n",
    "    if type(my_dictionary.get(element)) == int:\n",
    "        sum += my_dictionary.get(element)\n",
    "\n",
    "print(f'Sum of numeric values in a Dictionary: {sum}')"
   ]
  },
  {
   "cell_type": "code",
   "execution_count": 5,
   "metadata": {},
   "outputs": [
    {
     "name": "stdout",
     "output_type": "stream",
     "text": [
      "New list with unique values: [22, 'red', {'name': 'value'}]\n",
      "The Duplicates that were removed: [22, 'blue', 'blue']\n"
     ]
    }
   ],
   "source": [
    "my_list = [22, 22, 'red', 'blue', {'name':'value'}, 'blue']\n",
    "unique_list = []\n",
    "\n",
    "for element in my_list:\n",
    "    if element not in unique_list:\n",
    "        unique_list.append(element)\n",
    "        my_list.remove(element)\n",
    "\n",
    "\n",
    "print(f'New list with unique values: {unique_list}')\n",
    "print(f'The Duplicates that were removed: {my_list}')"
   ]
  },
  {
   "cell_type": "code",
   "execution_count": 6,
   "metadata": {},
   "outputs": [
    {
     "name": "stdout",
     "output_type": "stream",
     "text": [
      "Key does not exist in this dictionary.\n"
     ]
    }
   ],
   "source": [
    "my_dictionary = {\n",
    "    'name' : 'Ramiz',\n",
    "    'age' : 22,\n",
    "    'city' : 'Karachi'\n",
    "}\n",
    "check_key = 'country'\n",
    "if check_key not in my_dictionary.keys():\n",
    "    print('Key does not exist in this dictionary.')"
   ]
  },
  {
   "cell_type": "code",
   "execution_count": null,
   "metadata": {},
   "outputs": [],
   "source": []
  }
 ],
 "metadata": {
  "kernelspec": {
   "display_name": "Python 3",
   "language": "python",
   "name": "python3"
  },
  "language_info": {
   "codemirror_mode": {
    "name": "ipython",
    "version": 3
   },
   "file_extension": ".py",
   "mimetype": "text/x-python",
   "name": "python",
   "nbconvert_exporter": "python",
   "pygments_lexer": "ipython3",
   "version": "3.7.4"
  }
 },
 "nbformat": 4,
 "nbformat_minor": 2
}
