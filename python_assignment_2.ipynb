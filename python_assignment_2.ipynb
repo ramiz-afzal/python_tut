{
 "cells": [
  {
   "cell_type": "code",
   "execution_count": 1,
   "metadata": {},
   "outputs": [
    {
     "name": "stdout",
     "output_type": "stream",
     "text": [
      "Input the Obtained Marks for Math out of 100 :\n",
      "34\n",
      "Input the Obtained Marks for English out of 100 :\n",
      "67\n",
      "Input the Obtained Marks for History out of 100 :\n",
      "56\n",
      "Input the Obtained Marks for Chemistry out of 120 :\n",
      "78\n",
      "Input the Obtained Marks for Science out of 120 :\n",
      "89\n",
      "\n",
      "Your Result:\n",
      "Math you got 34 out of 100\n",
      "English you got 67 out of 100\n",
      "History you got 56 out of 100\n",
      "Chemistry you got 78 out of 120\n",
      "Science you got 89 out of 120\n",
      "Your Percentage: 60\n",
      "Your Grade: B\n"
     ]
    }
   ],
   "source": [
    "subjects = [{\n",
    "    'Name': 'Math',\n",
    "    'Marks_Obt': 0,\n",
    "    'Total_marks': 100\n",
    "},\n",
    "    {\n",
    "        'Name': 'English',\n",
    "        'Marks_Obt': 0,\n",
    "        'Total_marks': 100\n",
    "    },\n",
    "    {\n",
    "        'Name': 'History',\n",
    "        'Marks_Obt': 0,\n",
    "        'Total_marks': 100\n",
    "    },\n",
    "    {\n",
    "        'Name': 'Chemistry',\n",
    "        'Marks_Obt': 0,\n",
    "        'Total_marks': 120\n",
    "    },\n",
    "    {\n",
    "        'Name': 'Science',\n",
    "        'Marks_Obt': 0,\n",
    "        'Total_marks': 120\n",
    "    }\n",
    "]\n",
    "\n",
    "\n",
    "def calc_grade(percent):\n",
    "    if percent < 40:\n",
    "        return \"F\"\n",
    "    elif 40 <= percent <= 49:\n",
    "        return \"D\"\n",
    "    elif 50 <= percent <= 59:\n",
    "        return \"C\"\n",
    "    elif 60 <= percent <= 69:\n",
    "        return \"B\"\n",
    "    elif 70 <= percent <= 79:\n",
    "        return \"A\"\n",
    "    elif percent >= 80:\n",
    "        return \"A+\"\n",
    "\n",
    "\n",
    "def calc_result(obj_array):\n",
    "    total_obt = 0\n",
    "    total_marks = 0\n",
    "    for obj in obj_array:\n",
    "        total_obt += obj['Marks_Obt']\n",
    "        total_marks += obj['Total_marks']\n",
    "    return int((total_obt / total_marks) * 100)\n",
    "\n",
    "\n",
    "def get_marks(obj_array):\n",
    "    for obj in obj_array:\n",
    "        print(f\"Input the Obtained Marks for {obj['Name']} out of {obj['Total_marks']} :\")\n",
    "        obj[\"Marks_Obt\"] = int(input())\n",
    "        while obj[\"Marks_Obt\"] > obj[\"Total_marks\"]:\n",
    "            print(\"Obtained Marks can't be greater than Total Marks!\")\n",
    "            print(\"Input the Obtained Marks for \" + obj[\"Name\"] + \" :\")\n",
    "            obj[\"Marks_Obt\"] = int(input())\n",
    "    grade_in_per = calc_result(obj_array)\n",
    "    grade_in_string = calc_grade(grade_in_per)\n",
    "    print(\"\\nYour Result:\")\n",
    "    for obj in subjects:\n",
    "        print(f\"{obj['Name']} you got {obj['Marks_Obt']} out of {obj['Total_marks']}\")\n",
    "    print(f\"Your Percentage: {grade_in_per}\\nYour Grade: {grade_in_string}\")\n",
    "\n",
    "\n",
    "get_marks(subjects)"
   ]
  },
  {
   "cell_type": "code",
   "execution_count": 2,
   "metadata": {},
   "outputs": [
    {
     "name": "stdout",
     "output_type": "stream",
     "text": [
      "Enter a number:\n",
      ">45\n",
      "Odd\n"
     ]
    }
   ],
   "source": [
    "def check_odd():\n",
    "    num = int(input(\"Enter a number:\\n>\"))\n",
    "    if num % 2 == 0:\n",
    "        print(\"Even\")\n",
    "    else:\n",
    "        print(\"Odd\")\n",
    "\n",
    "\n",
    "check_odd()"
   ]
  },
  {
   "cell_type": "code",
   "execution_count": 3,
   "metadata": {},
   "outputs": [
    {
     "name": "stdout",
     "output_type": "stream",
     "text": [
      "Your List Length is : 5\n"
     ]
    }
   ],
   "source": [
    "color_list = ['Red', 'Blue', 'Green', 'Brown', 'Black']\n",
    "\n",
    "\n",
    "def print_list_len(my_list):\n",
    "    print(f\"Your List Length is : {len(my_list)}\")\n",
    "\n",
    "\n",
    "print_list_len(color_list)"
   ]
  },
  {
   "cell_type": "code",
   "execution_count": 4,
   "metadata": {},
   "outputs": [
    {
     "name": "stdout",
     "output_type": "stream",
     "text": [
      "Sum of all the Numeric values: 157\n"
     ]
    }
   ],
   "source": [
    "random_list = ['Ali', 33, '234', 45, False, {'key': 'value'}, True, 12, 67]\n",
    "\n",
    "\n",
    "def add_list_num(my_list):\n",
    "    result = 0\n",
    "    for obj in my_list:\n",
    "        if type(obj) == int:\n",
    "            result += obj\n",
    "    print(f\"Sum of all the Numeric values: {result}\")\n",
    "\n",
    "\n",
    "add_list_num(random_list)"
   ]
  },
  {
   "cell_type": "code",
   "execution_count": 5,
   "metadata": {},
   "outputs": [
    {
     "name": "stdout",
     "output_type": "stream",
     "text": [
      "Highest Value in this List: 287\n"
     ]
    }
   ],
   "source": [
    "num_list = [23, 56, 12, 287, 23, 89, 90, 28, 37, 45]\n",
    "\n",
    "\n",
    "def get_large_num(my_list):\n",
    "    result = my_list[0]\n",
    "    for num in my_list:\n",
    "        if num > result:\n",
    "            result = num\n",
    "    print(f\"Highest Value in this List: {result}\")\n",
    "\n",
    "\n",
    "get_large_num(num_list)"
   ]
  },
  {
   "cell_type": "code",
   "execution_count": 6,
   "metadata": {},
   "outputs": [
    {
     "name": "stdout",
     "output_type": "stream",
     "text": [
      "This number is less than 5 : 1\n",
      "This number is less than 5 : 1\n",
      "This number is less than 5 : 2\n",
      "This number is less than 5 : 3\n"
     ]
    }
   ],
   "source": [
    "my_num_list = [1, 1, 2, 3, 5, 8, 13, 21, 34, 55, 89]\n",
    "\n",
    "def get_high_nums(my_list):\n",
    "    for num in my_list:\n",
    "        if num < 5:\n",
    "            print(f\"This number is less than 5 : {num}\")\n",
    "\n",
    "\n",
    "get_high_nums(my_num_list)"
   ]
  },
  {
   "cell_type": "code",
   "execution_count": null,
   "metadata": {},
   "outputs": [],
   "source": []
  }
 ],
 "metadata": {},
 "nbformat": 4,
 "nbformat_minor": 2
}
