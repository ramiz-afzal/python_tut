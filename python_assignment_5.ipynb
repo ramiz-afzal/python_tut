{
 "cells": [
  {
   "cell_type": "code",
   "execution_count": 1,
   "metadata": {},
   "outputs": [
    {
     "name": "stdout",
     "output_type": "stream",
     "text": [
      "Enter a number: 4\n",
      "The factorial of 4 is 24\n"
     ]
    }
   ],
   "source": [
    "# Question 1 Answer, Generate a Factorila of a given number\n",
    "user_input = int(input(\"Enter a number: \"))\n",
    "factorial = 1\n",
    "\n",
    "if user_input < 0:\n",
    "    print(\"Sorry, factorial does not exist for negative numbers\")\n",
    "elif user_input == 0:\n",
    "    print(\"The factorial of 0 is 1\")\n",
    "else:\n",
    "    for i in range(1, user_input + 1):\n",
    "        factorial = factorial*i\n",
    "    print(\"The factorial of\", user_input, \"is\", factorial)"
   ]
  },
  {
   "cell_type": "code",
   "execution_count": 2,
   "metadata": {},
   "outputs": [
    {
     "name": "stdout",
     "output_type": "stream",
     "text": [
      "Enter a block of text:\n",
      ">\tRamiz Afzal\n",
      "\n",
      "Uppercase letters count: 2\n",
      "Uppercase letters: ['R', 'A']\n",
      "\n",
      "Lowercase letters count: 9\n",
      "Lowercase letters: ['a', 'm', 'i', 'z', ' ', 'f', 'z', 'a', 'l']\n"
     ]
    }
   ],
   "source": [
    "# Question 2 Answer, Sort lower and Upper case characters\n",
    "import re\n",
    "\n",
    "user_input = input('Enter a block of text:\\n>\\t')\n",
    "\n",
    "\n",
    "def calcString(textString):\n",
    "    regex = re.compile('[a-zA-Z]')\n",
    "    upper_case_count = 0\n",
    "    upper_case_char = []\n",
    "    lower_case_count = 0\n",
    "    lower_case_char = []\n",
    "    if regex.search(user_input):\n",
    "        for i in range(len(textString)):\n",
    "            if textString[i].isupper():\n",
    "                upper_case_char.append(textString[i])\n",
    "                upper_case_count += 1\n",
    "            else:\n",
    "                lower_case_char.append(textString[i])\n",
    "                lower_case_count += 1\n",
    "        print(f'\\nUppercase letters count: {upper_case_count}\\nUppercase letters: {upper_case_char}\\n')\n",
    "        print(f'Lowercase letters count: {lower_case_count}\\nLowercase letters: {lower_case_char}')\n",
    "\n",
    "\n",
    "calcString(user_input)"
   ]
  },
  {
   "cell_type": "code",
   "execution_count": 3,
   "metadata": {},
   "outputs": [
    {
     "name": "stdout",
     "output_type": "stream",
     "text": [
      "Orignal List: [23, 12, 4, 2, 3, 6, 7, 17, 9, 19, 21, 30, 93]\n",
      "Result after sorting: [12, 4, 2, 6, 30]\n"
     ]
    }
   ],
   "source": [
    "# Question 3 Answer, Sort even numbers from a list\n",
    "\n",
    "def print_even_nums(num_list):\n",
    "    even_nums = []\n",
    "    for num in num_list:\n",
    "        if  (num % 2) == 0:\n",
    "            even_nums.append(num)\n",
    "    print(f'Orignal List: {num_list}')\n",
    "    print(f'Result after sorting: {even_nums}')\n",
    "\n",
    "\n",
    "sample_list = [23, 12, 4, 2, 3, 6, 7, 17, 9, 19, 21, 30, 93]\n",
    "\n",
    "print_even_nums(sample_list)"
   ]
  },
  {
   "cell_type": "code",
   "execution_count": 4,
   "metadata": {},
   "outputs": [
    {
     "name": "stdout",
     "output_type": "stream",
     "text": [
      "The word 'racecar' is a palindrome.\n",
      "The word 'ramiz' is not a palindrome.\n"
     ]
    }
   ],
   "source": [
    "# Question 4 Answer, Checking if a word is palindrome or not\n",
    "\n",
    "def check_palindrome(word):\n",
    "    original_word = []\n",
    "    reverse_word = []\n",
    "    checker = 0\n",
    "    for char in word:\n",
    "        original_word.append(char)\n",
    "        reverse_word.append(char)\n",
    "    reverse_word.reverse()\n",
    "    for i in range(len(original_word)):\n",
    "        if reverse_word[i] == original_word[i]:\n",
    "            checker += 1\n",
    "    if checker == len(original_word):\n",
    "        print(f'The word \\'{word}\\' is a palindrome.')\n",
    "    else:\n",
    "        print(f'The word \\'{word}\\' is not a palindrome.')\n",
    "\n",
    "\n",
    "check_palindrome('racecar')\n",
    "check_palindrome('ramiz')"
   ]
  },
  {
   "cell_type": "code",
   "execution_count": 5,
   "metadata": {},
   "outputs": [
    {
     "name": "stdout",
     "output_type": "stream",
     "text": [
      "499 is a Prime number.\n",
      "0 and 1 are not primer number\n",
      "0 and 1 are not primer number\n",
      "2 is a Prime number\n",
      "4 is not a Prime number\n",
      "5 is a Prime number.\n"
     ]
    }
   ],
   "source": [
    "# Question 5 Answer, Checking if a number is Prime or not\n",
    "\n",
    "def check_prime(num):\n",
    "    if num == 2:\n",
    "        print(f'{num} is a Prime number')\n",
    "    elif num > 2:\n",
    "        if (num % 2) == 1:\n",
    "            print(f'{num} is a Prime number.')\n",
    "        else:\n",
    "            print(f'{num} is not a Prime number')\n",
    "    else:\n",
    "        print('0 and 1 are not primer number')\n",
    "\n",
    "check_prime(499)\n",
    "check_prime(1)\n",
    "check_prime(0)\n",
    "check_prime(2)\n",
    "check_prime(4)\n",
    "check_prime(5)"
   ]
  },
  {
   "cell_type": "code",
   "execution_count": 6,
   "metadata": {},
   "outputs": [
    {
     "name": "stdout",
     "output_type": "stream",
     "text": [
      "1: eggs\n",
      "2: milk\n",
      "3: bread\n",
      "4: biscuits\n",
      "5: cookies\n",
      "6: cakes\n",
      "7: fruits\n"
     ]
    }
   ],
   "source": [
    "# Question 6 Answer, Printing multiple items from and undefined parameterized function using Arbitrary Arguments\n",
    "\n",
    "def print_items(*items):\n",
    "    item_qty = 0\n",
    "    for item in items:\n",
    "        item_qty += 1\n",
    "        print(f'{item_qty}: {item}')\n",
    "\n",
    "\n",
    "print_items('eggs', 'milk', 'bread', 'biscuits', 'cookies', 'cakes', 'fruits')"
   ]
  },
  {
   "cell_type": "code",
   "execution_count": null,
   "metadata": {},
   "outputs": [],
   "source": []
  }
 ],
 "metadata": {
  "kernelspec": {
   "display_name": "Python 3",
   "language": "python",
   "name": "python3"
  },
  "language_info": {
   "codemirror_mode": {
    "name": "ipython",
    "version": 3
   },
   "file_extension": ".py",
   "mimetype": "text/x-python",
   "name": "python",
   "nbconvert_exporter": "python",
   "pygments_lexer": "ipython3",
   "version": "3.7.4"
  }
 },
 "nbformat": 4,
 "nbformat_minor": 2
}
